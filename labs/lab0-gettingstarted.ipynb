{
 "cells": [
  {
   "cell_type": "markdown",
   "metadata": {
    "deletable": false,
    "editable": false,
    "tags": []
   },
   "source": [
    "# Lab 0: Intro to Jupyter notebooks, review of Python and NumPy\n",
    "\n",
    "Welcome to the first lab of PSTAT 100! This lab is meant to help you familiarize yourself with Jupyter Notebooks and review Python and NumPy. \n",
    "\n",
    "### Objectives\n",
    "* Keyboard shortcuts, running cells, and viewing documentation in Jupyter Notebooks\n",
    "* Review functions, lists, and loops\n",
    "* Review NumPy arrays: indexing, attributes, and operations on arrays"
   ]
  },
  {
   "cell_type": "markdown",
   "metadata": {
    "deletable": false,
    "editable": false,
    "tags": []
   },
   "source": [
    "### Collaboration Policy\n",
    "\n",
    "Data science is a collaborative activity. While you may talk with others about the labs, we ask that you **write your solutions individually** and do not copy them from others.\n",
    "\n",
    "By submitting your work in this course, whether it is homework, a lab assignment, or a quiz/exam, you agree and acknowledge that **this submission is your own work and that you have read the policies regarding Academic Integrity**: https://studentconduct.sa.ucsb.edu/academic-integrity. The Office of Student Conduct has policies, tips, and resources for proper citation use, recognizing actions considered to be cheating or other forms of academic theft, and students’ responsibilities. You are required to read the policies and to abide by them.\n",
    "\n",
    "_**If you collaborate with others, we ask that you indicate their names on your submission.**_"
   ]
  },
  {
   "cell_type": "markdown",
   "metadata": {
    "deletable": false,
    "tags": []
   },
   "source": [
    "### Your name and collaborators\n",
    "\n",
    "**Name:** Alyssa Keehan\n",
    "\n",
    "**Collaborators:** "
   ]
  },
  {
   "cell_type": "markdown",
   "metadata": {
    "deletable": false,
    "editable": false,
    "tags": []
   },
   "source": [
    "---\n",
    "## 0. Using Jupyter\n",
    "\n",
    "\n",
    "If you are unfamiliar with Jupyter Notebooks, we highly recommend that you skim [this short tutorial](http://nbviewer.jupyter.org/github/jupyter/notebook/blob/master/docs/source/examples/Notebook/Notebook%20Basics.ipynb) or select **Help --> Notebook Help** in the menu bar above. \n",
    "\n",
    "**Learn the notebook shortcuts** it will make navigating the notebook and your workflow faster. _(We strongly recommend that you use a computer to work on the Jupyter notebooks -- they are not well-suited for being accessed from the phones, plus, some of the shortcuts will not work well on mobile devices.)_\n",
    "\n",
    "The most important keyboard shortcuts are `Enter`, which enters **edit mode**, and `Esc`, which enters **command mode**.\n",
    "\n",
    "In edit mode, most of the keyboard is dedicated to typing into the cell's editor. Thus, in edit mode there are relatively few shortcuts. In command mode, the entire keyboard is available for shortcuts, so there are many more. The **Help->Keyboard Shortcuts** dialog lists the available shortcuts.\n",
    "\n",
    "### Keyboard Shortcuts\n",
    "\n",
    "Even if you are familiar with Jupyter, we strongly encourage you to become proficient with keyboard shortcuts (this will save you time in the future). To learn about keyboard shortcuts, go to **Help --> Keyboard Shortcuts** in the menu above. \n",
    "\n",
    "Here are a few that we like:\n",
    "1. `Ctrl` + `Return` : *Evaluate the current cell*\n",
    "1. `Shift` + `Return`: *Evaluate the current cell and move to the next*\n",
    "1. `ESC` : *command mode* (may need to press before using any of the commands below)\n",
    "1. Saving the notebook: `s`\n",
    "1. Basic navigation: up one cell `k`, down one cell `j`\n",
    "1. `a` : *create a cell above*\n",
    "1. `b` : *create a cell below*\n",
    "1. `dd` : *delete a cell*\n",
    "1. `z` : *undo the last cell operation*\n",
    "1. `m` : *convert a cell to markdown*\n",
    "1. `y` : *convert a cell to code*\n"
   ]
  },
  {
   "cell_type": "markdown",
   "metadata": {
    "deletable": false,
    "editable": false,
    "tags": []
   },
   "source": [
    "Your turn: find out what the following commands do:\n",
    "\n",
    "* Cell editing: `x, c, v, d, z`\n",
    "* Kernel operations: `i`, `0` (press twice)\n"
   ]
  },
  {
   "cell_type": "code",
   "execution_count": 36,
   "metadata": {
    "editable": true,
    "tags": []
   },
   "outputs": [],
   "source": [
    "# Practice the above commands on this cell"
   ]
  },
  {
   "cell_type": "markdown",
   "metadata": {},
   "source": [
    "* 0 twice asks to restart kernel\n",
    "* i saves the notebook\n",
    "* v produces creates a new cell below with old output before saving\n",
    "* x deleted the new cell created\n",
    "* d honestly I can't tell\n",
    "* z also deletes new cell created"
   ]
  },
  {
   "cell_type": "markdown",
   "metadata": {
    "deletable": false,
    "editable": false,
    "tags": []
   },
   "source": [
    "\n",
    "\n",
    "\n",
    "### Running Cells and Displaying Output\n",
    "\n",
    "\n",
    "Run the following cell.  "
   ]
  },
  {
   "cell_type": "code",
   "execution_count": 37,
   "metadata": {
    "deletable": false,
    "tags": []
   },
   "outputs": [
    {
     "name": "stdout",
     "output_type": "stream",
     "text": [
      "Hello, World!\n"
     ]
    }
   ],
   "source": [
    "print(\"Hello, World!\")"
   ]
  },
  {
   "cell_type": "markdown",
   "metadata": {
    "deletable": false,
    "editable": false,
    "tags": []
   },
   "source": [
    "In Jupyter notebooks, all print statements are displayed below the cell. Furthermore, the output of **only the last line** is displayed following the cell upon execution."
   ]
  },
  {
   "cell_type": "code",
   "execution_count": 38,
   "metadata": {
    "deletable": false,
    "tags": []
   },
   "outputs": [
    {
     "name": "stdout",
     "output_type": "stream",
     "text": [
      "Hello, world!\n"
     ]
    },
    {
     "data": {
      "text/plain": [
       "8"
      ]
     },
     "execution_count": 38,
     "metadata": {},
     "output_type": "execute_result"
    }
   ],
   "source": [
    "\"Will this line be displayed?\"\n",
    "\n",
    "print(\"Hello\" + \",\", \"world!\")\n",
    "\n",
    "5 + 3"
   ]
  },
  {
   "cell_type": "markdown",
   "metadata": {
    "deletable": false,
    "editable": false,
    "tags": []
   },
   "source": [
    "### Viewing Documentation\n",
    "\n",
    "To output the documentation for a function, use the `help()` function."
   ]
  },
  {
   "cell_type": "code",
   "execution_count": 39,
   "metadata": {
    "deletable": false,
    "editable": true,
    "tags": []
   },
   "outputs": [
    {
     "name": "stdout",
     "output_type": "stream",
     "text": [
      "Help on built-in function print in module builtins:\n",
      "\n",
      "print(...)\n",
      "    print(value, ..., sep=' ', end='\\n', file=sys.stdout, flush=False)\n",
      "    \n",
      "    Prints the values to a stream, or to sys.stdout by default.\n",
      "    Optional keyword arguments:\n",
      "    file:  a file-like object (stream); defaults to the current sys.stdout.\n",
      "    sep:   string inserted between values, default a space.\n",
      "    end:   string appended after the last value, default a newline.\n",
      "    flush: whether to forcibly flush the stream.\n",
      "\n"
     ]
    }
   ],
   "source": [
    "help(print)"
   ]
  },
  {
   "cell_type": "markdown",
   "metadata": {
    "deletable": false,
    "editable": false,
    "tags": []
   },
   "source": [
    "You can also use Jupyter to view function documentation inside your notebook. The function must already be defined in the kernel for this to work.\n",
    "\n",
    "Below, click your mouse anywhere on `print()` and use `Shift` + `Tab` to view the function's documentation. "
   ]
  },
  {
   "cell_type": "code",
   "execution_count": 40,
   "metadata": {
    "deletable": false,
    "editable": true,
    "tags": []
   },
   "outputs": [
    {
     "name": "stdout",
     "output_type": "stream",
     "text": [
      "Welcome to this course!\n"
     ]
    }
   ],
   "source": [
    "print('Welcome to this course!')"
   ]
  },
  {
   "cell_type": "markdown",
   "metadata": {
    "deletable": false,
    "editable": false,
    "tags": []
   },
   "source": [
    "### Importing Libraries and Magic Commands\n",
    "\n",
    "In this course, we will be using common Python libraries to help us process data. By convention, we import all libraries at the very top of the notebook. There are also a set of standard aliases that are used to shorten the library names. Below are some of the libraries that you may encounter throughout the course, along with their respective aliases."
   ]
  },
  {
   "cell_type": "code",
   "execution_count": 1,
   "metadata": {
    "deletable": false,
    "editable": false,
    "tags": []
   },
   "outputs": [],
   "source": [
    "import pandas as pd\n",
    "import numpy as np"
   ]
  },
  {
   "cell_type": "markdown",
   "metadata": {
    "deletable": false,
    "editable": false,
    "tags": []
   },
   "source": [
    "A useful magic command is `%%time`, which times the execution of that cell. You can use this by writing it as the first line of a cell. (Note that `%%` is used for *cell magic commands* that apply to the entire cell, whereas `%` is used for *line magic commands* that only apply to a single line. If you are interested, you can read more about the magic commands in this [Tutorials Point article](https://www.tutorialspoint.com/jupyter/ipython_magic_commands.htm))."
   ]
  },
  {
   "cell_type": "code",
   "execution_count": 2,
   "metadata": {
    "ExecuteTime": {
     "end_time": "2019-01-18T23:27:53.755085Z",
     "start_time": "2019-01-18T23:27:53.749765Z"
    }
   },
   "outputs": [
    {
     "name": "stdout",
     "output_type": "stream",
     "text": [
      "CPU times: user 13 µs, sys: 3 µs, total: 16 µs\n",
      "Wall time: 19.8 µs\n"
     ]
    }
   ],
   "source": [
    "%%time\n",
    "\n",
    "lst = []\n",
    "for i in range(100):\n",
    "    lst.append(i)"
   ]
  },
  {
   "cell_type": "markdown",
   "metadata": {
    "deletable": false,
    "editable": false,
    "tags": []
   },
   "source": [
    "---\n",
    "## 1. Prerequisites\n",
    "\n",
    "It's time to answer some review questions. Each question has a response cell directly below it. Most response cells are followed by a test cell that runs automated tests to check your work. **Please don't delete questions, response cells, or test cells**. You won't get credit for your work if you do.\n",
    "\n",
    "If you have extra content in a response cell, such as an example call to a function you're implementing, that's fine.\n",
    "\n",
    "**Important Note**: Test cells don't always confirm that your response is correct. They are meant to give you some useful feedback, but it's your responsibility to currectly answer the question. There may be other/additional tests that we run when scoring your notebooks. We **strongly recommend** that you check your solutions yourself rather than just relying on the test cells."
   ]
  },
  {
   "cell_type": "markdown",
   "metadata": {
    "deletable": false,
    "editable": false,
    "tags": []
   },
   "source": [
    "### Python\n",
    "\n",
    "Python is the main programming language we'll use in the course. We expect that you are familiar with it, so we will not be covering general Python syntax. If any of the below exercises are challenging (or if you would like to refresh your Python knowledge), please review one or more of the following materials.\n",
    "\n",
    "- **[Python Tutorial](https://docs.python.org/3.5/tutorial/)**: Introduction to Python from the creators of Python.\n",
    "- **[Composing Programs Chapter 1](http://composingprograms.com/pages/11-getting-started.html)**: This is more of a introduction to programming with Python.\n",
    "- **[Advanced Crash Course](http://cs231n.github.io/python-numpy-tutorial/)**: A fast crash course which assumes some programming background.\n",
    "\n",
    "\n",
    "You need to make sure that you are comfortable with the following basic concepts (from CS 8):\n",
    "* Basic datatypes: int, float, string, bool\n",
    "* Variables and assignment statements\n",
    "* Basic arithmetic, including exponentiation `**` and modulo `%` (i.e., the remainder from the division); precedence rules\n",
    "* Boolean values, operators for Boolean logic (`and`, `or`, `not`)\n",
    "* Nested expressions, compound expressions, built-in methods (e.g., `round`, `max`)\n",
    "* Conditional statements / nested conditionals\n",
    "* Defining and running functions, properly using input parameters and distinguishing them from the input arguments\n",
    "* `import`ing modules and specific functions\n",
    "* Documenting code through the use of comments (in-line and block comments)\n",
    "* String concatenation, indexing, slicing, methods (e.g., `upper`/`lower`, `replace`, `strip`)\n",
    "* Loops: `while` and `for`; how to avoid infinite loops\n",
    "* Lists: indexing, slicing, methods (e.g., `append`, `sort`)\n",
    "* Dictionaries: syntax, accessing keys and values, adding new elements\n",
    "* Generating random numbers"
   ]
  },
  {
   "cell_type": "markdown",
   "metadata": {
    "deletable": false
   },
   "source": [
    "#### Question 1a\n",
    "\n",
    "Write a function `summation` that evaluates the following summation for $n \\geq 1$:\n",
    "\n",
    "$$\\sum_{i=1}^{n} \\left(i^3 + 5 i^3\\right)$$\n",
    "\n",
    "<!--\n",
    "BEGIN QUESTION\n",
    "name: q1a\n",
    "-->"
   ]
  },
  {
   "cell_type": "code",
   "execution_count": 3,
   "metadata": {
    "ExecuteTime": {
     "end_time": "2019-01-18T23:27:53.778780Z",
     "start_time": "2019-01-18T23:27:53.758946Z"
    }
   },
   "outputs": [],
   "source": [
    "def summation(n):\n",
    "    \"\"\"Compute the summation i^3 + 5 * i^3 for 1 <= i <= n.\"\"\"\n",
    "    sum = 0\n",
    "    for i in np.arange(1,n+1):\n",
    "        sum+= i**3 + 5*(i**3)\n",
    "    return sum"
   ]
  },
  {
   "cell_type": "markdown",
   "metadata": {},
   "source": [
    "Use your function to compute the sum for..."
   ]
  },
  {
   "cell_type": "code",
   "execution_count": 4,
   "metadata": {},
   "outputs": [
    {
     "data": {
      "text/plain": [
       "54"
      ]
     },
     "execution_count": 4,
     "metadata": {},
     "output_type": "execute_result"
    }
   ],
   "source": [
    "# i = 2\n",
    "summation(2)"
   ]
  },
  {
   "cell_type": "code",
   "execution_count": 5,
   "metadata": {},
   "outputs": [
    {
     "data": {
      "text/plain": [
       "264600"
      ]
     },
     "execution_count": 5,
     "metadata": {},
     "output_type": "execute_result"
    }
   ],
   "source": [
    "# i = 20\n",
    "summation(20)"
   ]
  },
  {
   "cell_type": "markdown",
   "metadata": {
    "deletable": false,
    "editable": false,
    "tags": []
   },
   "source": [
    " ### List comprehension\n",
    " \n",
    " In Python, normally you can fill a list with elements using a for loop as seen in the example below."
   ]
  },
  {
   "cell_type": "code",
   "execution_count": 6,
   "metadata": {
    "deletable": false,
    "tags": []
   },
   "outputs": [
    {
     "name": "stdout",
     "output_type": "stream",
     "text": [
      "[4, 64, 144, 324, 484, 784, 1024, 1444, 1764, 2304, 2704, 3364, 3844, 4624, 5184, 6084, 6724, 7744, 8464, 9604]\n"
     ]
    }
   ],
   "source": [
    "squares = []\n",
    "# Add square numbers from 1 to 10000 inclusive to the list \"squares\" if they end in the digit \"4\"\n",
    "for i in range(1,101):\n",
    "    if (i**2)%10 == 4:\n",
    "        squares.append(i**2)\n",
    "print(squares)"
   ]
  },
  {
   "cell_type": "markdown",
   "metadata": {
    "deletable": false,
    "editable": false,
    "tags": []
   },
   "source": [
    "Alternatively, you can create this same list in a single line of code by moving the for-loop and if-statement inside the loop's creation. This is called a **list comprehension**.\n",
    "\n",
    "The syntax for a list comprehension is this: \\[**value** **for-loop** **condition**\\]\n",
    "* **value** is the value you want to put into the list\n",
    "* **for-loop** is the for-loop that iterates through a list or a range\n",
    "* **condition** is the if-statement that determines if the **value** is allowed to be inserted into the list\n",
    "\n",
    "For more information, you can read [this beginners tutorial](https://www.pythonforbeginners.com/basics/list-comprehensions-in-python) on list comprehensions"
   ]
  },
  {
   "cell_type": "code",
   "execution_count": 7,
   "metadata": {
    "deletable": false,
    "tags": []
   },
   "outputs": [
    {
     "name": "stdout",
     "output_type": "stream",
     "text": [
      "[4, 64, 144, 324, 484, 784, 1024, 1444, 1764, 2304, 2704, 3364, 3844, 4624, 5184, 6084, 6724, 7744, 8464, 9604]\n"
     ]
    }
   ],
   "source": [
    "# value: i**2\n",
    "# for-loop: for i in range(1,101)\n",
    "# condition: if (i**2)%10 == 4\n",
    "squares_list_comprehension = [i**2 for i in range(1,101) if (i**2)%10 == 4]\n",
    "print(squares_list_comprehension)"
   ]
  },
  {
   "cell_type": "markdown",
   "metadata": {
    "deletable": false,
    "editable": false,
    "tags": []
   },
   "source": [
    "### Aligning lists with `zip()`\n",
    "\n",
    "If you need to line up 2 or more lists, Python has a built-in function called **zip()**. This allows you to loop through more than one list at a time such that you get values in each list that have the same index in the other lists. This can also be used within for-loops to make them even more powerful."
   ]
  },
  {
   "cell_type": "code",
   "execution_count": 8,
   "metadata": {
    "deletable": false,
    "tags": []
   },
   "outputs": [
    {
     "name": "stdout",
     "output_type": "stream",
     "text": [
      "2\n",
      "6\n",
      "12\n",
      "20\n"
     ]
    }
   ],
   "source": [
    "a = [1,2,3,4]\n",
    "b = [2,3,4,5]\n",
    "# Print a[0]*b[0], a[1]*b[1],...\n",
    "for x, y in zip(a,b):\n",
    "    print(x*y)"
   ]
  },
  {
   "cell_type": "markdown",
   "metadata": {
    "deletable": false,
    "editable": false
   },
   "source": [
    "#### Question 1b\n",
    "\n",
    "Write a function `list_sum` that computes **the square** of _each_ value in `list_1`, **the cube** of _each_ value in `list_2`, and returns a list containing the element-wise sum of these results. Assume that `list_1` and `list_2` have the same number of elements. Try to use a list comprehension to write it all on one line.\n",
    "\n",
    "<!--\n",
    "BEGIN QUESTION\n",
    "name: q1b\n",
    "-->"
   ]
  },
  {
   "cell_type": "code",
   "execution_count": 9,
   "metadata": {
    "ExecuteTime": {
     "end_time": "2019-01-18T23:27:53.847700Z",
     "start_time": "2019-01-18T23:27:53.812524Z"
    }
   },
   "outputs": [
    {
     "name": "stdout",
     "output_type": "stream",
     "text": [
      "[12]\n"
     ]
    },
    {
     "data": {
      "text/plain": [
       "list"
      ]
     },
     "execution_count": 9,
     "metadata": {},
     "output_type": "execute_result"
    }
   ],
   "source": [
    "def list_sum(list_1, list_2):\n",
    "    \"\"\"Compute x^2 + y^3 for each x, y in list_1, list_2. \n",
    "    \n",
    "    Assume list_1 and list_2 have the same length.\n",
    "    \"\"\"\n",
    "    assert len(list_1) == len(list_2), \"both args must have the same number of elements\"\n",
    "    return [list_1[i]**2 + list_2[i]**3 for i in range(len(list_1))]\n",
    "# testing the code\n",
    "use_list = list_sum([2],[2])\n",
    "print(use_list) # prints out 2**2 + 2**3 = 4 + 8 = 12\n",
    "type(use_list)"
   ]
  },
  {
   "cell_type": "markdown",
   "metadata": {
    "deletable": false,
    "editable": false,
    "tags": []
   },
   "source": [
    "## 2. NumPy\n",
    "\n",
    "NumPy NumPy (pronounced \"NUM-pie\") is the numerical computing module, which we will be using a lot in this course. Here's a quick recap of NumPy. For more review, read the following materials.\n",
    "\n",
    "- **[NumPy Quick Start Tutorial](https://docs.scipy.org/doc/numpy-1.15.4/user/quickstart.html)**\n",
    "- **[Stanford CS231n NumPy Tutorial](http://cs231n.github.io/python-numpy-tutorial/#numpy)**"
   ]
  },
  {
   "cell_type": "markdown",
   "metadata": {
    "deletable": false,
    "editable": false,
    "tags": []
   },
   "source": [
    "#### Question 2a\n",
    "\n",
    "The core of NumPy is the array. Like Python lists, arrays store data; however, they store data in a more efficient manner. In many cases, this allows for faster computation and data manipulation.\n",
    "\n",
    "Let's use `np.array` to create an array. It takes a sequence, such as a list or range (remember that list elements are included between the square brackets `[` and `]`). \n",
    "\n",
    "Below, create an array `arr` containing the values 1, 2, 3, 4, and 5 (in that order).\n",
    "\n",
    "<!--\n",
    "BEGIN QUESTION\n",
    "name: q2a\n",
    "-->"
   ]
  },
  {
   "cell_type": "code",
   "execution_count": 10,
   "metadata": {
    "ExecuteTime": {
     "end_time": "2019-01-18T23:27:53.985409Z",
     "start_time": "2019-01-18T23:27:53.949516Z"
    }
   },
   "outputs": [
    {
     "name": "stdout",
     "output_type": "stream",
     "text": [
      "[1 2 3 4 5]\n"
     ]
    }
   ],
   "source": [
    "arr = np.array([1,2,3,4,5])\n",
    "print(arr)"
   ]
  },
  {
   "cell_type": "markdown",
   "metadata": {
    "deletable": false,
    "editable": false,
    "tags": []
   },
   "source": [
    "In addition to values in the array, we can access attributes such as array's shape and data type. A full list of attributes can be found [here](https://docs.scipy.org/doc/numpy-1.15.0/reference/arrays.ndarray.html#array-attributes)."
   ]
  },
  {
   "cell_type": "markdown",
   "metadata": {
    "deletable": false,
    "editable": false,
    "tags": []
   },
   "source": [
    "### Indexing\n",
    "\n",
    "NumPy arrays are integer-indexed by position, with the first element indexed as position 0. Elements can be retrieved by enclosing the desired positions in brackets `[]`. "
   ]
  },
  {
   "cell_type": "code",
   "execution_count": 11,
   "metadata": {
    "deletable": false,
    "editable": true,
    "tags": []
   },
   "outputs": [
    {
     "data": {
      "text/plain": [
       "4"
      ]
     },
     "execution_count": 11,
     "metadata": {},
     "output_type": "execute_result"
    }
   ],
   "source": [
    "arr[3]"
   ]
  },
  {
   "cell_type": "markdown",
   "metadata": {
    "deletable": false,
    "editable": false,
    "tags": []
   },
   "source": [
    "To retrieve consecutive positions, specify the starting index and the ending index separated by `:` -- *e.g.*, `arr[from:to]`. This syntax is non-inclusive of the left endpoint; notice below that the starting index is *not* included in the output."
   ]
  },
  {
   "cell_type": "code",
   "execution_count": 12,
   "metadata": {
    "deletable": false,
    "editable": true,
    "tags": []
   },
   "outputs": [
    {
     "data": {
      "text/plain": [
       "array([3, 4])"
      ]
     },
     "execution_count": 12,
     "metadata": {},
     "output_type": "execute_result"
    }
   ],
   "source": [
    "arr[2:4]"
   ]
  },
  {
   "cell_type": "markdown",
   "metadata": {
    "deletable": false,
    "editable": false,
    "tags": []
   },
   "source": [
    "### Attributes\n",
    "\n",
    "NumPy arrays have several attributes that can be retrieved by name using syntax of the form `arr.attr`. Some useful attributes are:\n",
    "\n",
    "* `.shape`, a tuple with the length of each array dimension\n",
    "* `.size`, the length of the first array dimension\n",
    "* `.dtype`, the data type of the entries (float, integer, etc.)"
   ]
  },
  {
   "cell_type": "code",
   "execution_count": 13,
   "metadata": {
    "deletable": false,
    "editable": false,
    "tags": []
   },
   "outputs": [
    {
     "data": {
      "text/plain": [
       "(5,)"
      ]
     },
     "execution_count": 13,
     "metadata": {},
     "output_type": "execute_result"
    }
   ],
   "source": [
    "arr.shape"
   ]
  },
  {
   "cell_type": "code",
   "execution_count": 14,
   "metadata": {
    "deletable": false,
    "editable": false,
    "tags": []
   },
   "outputs": [
    {
     "data": {
      "text/plain": [
       "5"
      ]
     },
     "execution_count": 14,
     "metadata": {},
     "output_type": "execute_result"
    }
   ],
   "source": [
    "arr.size"
   ]
  },
  {
   "cell_type": "code",
   "execution_count": 15,
   "metadata": {
    "deletable": false,
    "editable": false,
    "tags": []
   },
   "outputs": [
    {
     "data": {
      "text/plain": [
       "dtype('int64')"
      ]
     },
     "execution_count": 15,
     "metadata": {},
     "output_type": "execute_result"
    }
   ],
   "source": [
    "arr.dtype"
   ]
  },
  {
   "cell_type": "markdown",
   "metadata": {
    "deletable": false,
    "editable": false,
    "tags": []
   },
   "source": [
    "Arrays, unlike Python lists, **cannot store items of different data types**."
   ]
  },
  {
   "cell_type": "code",
   "execution_count": 16,
   "metadata": {
    "deletable": false,
    "editable": false,
    "tags": []
   },
   "outputs": [
    {
     "data": {
      "text/plain": [
       "[1, '3']"
      ]
     },
     "execution_count": 16,
     "metadata": {},
     "output_type": "execute_result"
    }
   ],
   "source": [
    "# A regular Python list can store items of different data types\n",
    "[1, '3']"
   ]
  },
  {
   "cell_type": "code",
   "execution_count": 17,
   "metadata": {
    "deletable": false,
    "editable": false,
    "tags": []
   },
   "outputs": [
    {
     "data": {
      "text/plain": [
       "array(['1', '3'], dtype='<U21')"
      ]
     },
     "execution_count": 17,
     "metadata": {},
     "output_type": "execute_result"
    }
   ],
   "source": [
    "# Arrays will convert everything to the same data type\n",
    "np.array([1, '3'])"
   ]
  },
  {
   "cell_type": "code",
   "execution_count": 18,
   "metadata": {
    "deletable": false,
    "editable": false,
    "tags": []
   },
   "outputs": [
    {
     "data": {
      "text/plain": [
       "array([5. , 8.3])"
      ]
     },
     "execution_count": 18,
     "metadata": {},
     "output_type": "execute_result"
    }
   ],
   "source": [
    "# Another example of array type conversion\n",
    "np.array([5, 8.3])"
   ]
  },
  {
   "cell_type": "markdown",
   "metadata": {
    "deletable": false,
    "editable": false,
    "tags": []
   },
   "source": [
    "### Operations on arrays\n",
    "\n",
    "Arrays are also useful in performing *vectorized operations*. Given two or more arrays of equal length, arithmetic will perform **element-wise computations** across the arrays. \n",
    "\n",
    "For example, observe the following:"
   ]
  },
  {
   "cell_type": "code",
   "execution_count": 19,
   "metadata": {
    "deletable": false,
    "tags": []
   },
   "outputs": [
    {
     "data": {
      "text/plain": [
       "[1, 2, 3, 4, 5, 6]"
      ]
     },
     "execution_count": 19,
     "metadata": {},
     "output_type": "execute_result"
    }
   ],
   "source": [
    "# Python list addition will concatenate the two lists\n",
    "[1, 2, 3] + [4, 5, 6]"
   ]
  },
  {
   "cell_type": "code",
   "execution_count": 20,
   "metadata": {
    "deletable": false,
    "editable": true,
    "tags": []
   },
   "outputs": [
    {
     "data": {
      "text/plain": [
       "array([5, 7, 9])"
      ]
     },
     "execution_count": 20,
     "metadata": {},
     "output_type": "execute_result"
    }
   ],
   "source": [
    "# NumPy array addition will add them element-wise\n",
    "np.array([1, 2, 3]) + np.array([4, 5, 6])"
   ]
  },
  {
   "cell_type": "markdown",
   "metadata": {
    "deletable": false
   },
   "source": [
    "#### Question 2b\n",
    "\n",
    "Given the array `random_arr`, assign `valid_values` to an array containing all values $x$ such that $2x^4 > 1$.\n",
    "\n",
    "<!--\n",
    "BEGIN QUESTION\n",
    "name: q2b\n",
    "-->"
   ]
  },
  {
   "cell_type": "code",
   "execution_count": 21,
   "metadata": {
    "tags": []
   },
   "outputs": [
    {
     "name": "stdout",
     "output_type": "stream",
     "text": [
      "random_arr:\n",
      "[0.37454012 0.95071431 0.73199394 0.59865848 0.15601864 0.15599452\n",
      " 0.05808361 0.86617615 0.60111501 0.70807258 0.02058449 0.96990985\n",
      " 0.83244264 0.21233911 0.18182497 0.18340451 0.30424224 0.52475643\n",
      " 0.43194502 0.29122914 0.61185289 0.13949386 0.29214465 0.36636184\n",
      " 0.45606998 0.78517596 0.19967378 0.51423444 0.59241457 0.04645041\n",
      " 0.60754485 0.17052412 0.06505159 0.94888554 0.96563203 0.80839735\n",
      " 0.30461377 0.09767211 0.68423303 0.44015249 0.12203823 0.49517691\n",
      " 0.03438852 0.9093204  0.25877998 0.66252228 0.31171108 0.52006802\n",
      " 0.54671028 0.18485446 0.96958463 0.77513282 0.93949894 0.89482735\n",
      " 0.59789998 0.92187424 0.0884925  0.19598286 0.04522729 0.32533033]\n",
      "valid_values:\n",
      "valid_values:\n",
      "[0.95071431 0.86617615 0.96990985 0.94888554 0.96563203 0.9093204\n",
      " 0.96958463 0.93949894 0.89482735 0.92187424]\n"
     ]
    },
    {
     "data": {
      "text/plain": [
       "numpy.ndarray"
      ]
     },
     "execution_count": 21,
     "metadata": {},
     "output_type": "execute_result"
    }
   ],
   "source": [
    "# for reproducibility - setting the seed will result in the same random draw each time\n",
    "np.random.seed(42)\n",
    "\n",
    "# draw uniformly random integers between 1 and 60\n",
    "random_arr = np.random.rand(60)\n",
    "print(\"random_arr:\")\n",
    "print(random_arr)\n",
    "\n",
    "# solution\n",
    "# another way is to solve for x in the conditional statement and only include the value greater than that result.\n",
    "print(\"valid_values:\")\n",
    "valid_values = np.array([num for num in random_arr if 2*(num)**4 > 1])\n",
    "print(\"valid_values:\")\n",
    "print(valid_values) # values must be greater than (1/2)**(1/4) = 0.8408964\n",
    "type(valid_values)"
   ]
  },
  {
   "cell_type": "markdown",
   "metadata": {
    "deletable": false
   },
   "source": [
    "#### Question 2c\n",
    "\n",
    "Use NumPy to recreate your answer to Question 1b. The input parameters will both be lists, so you will need to convert the lists into arrays before performing your operations.\n",
    "\n",
    "**Hint:** Use the [NumPy documentation](https://docs.scipy.org/doc/numpy-1.15.1/reference/index.html). If you're stuck, try a search engine! Searching the web for examples of how to use modules is very common in data science.\n",
    "\n",
    "<!--\n",
    "BEGIN QUESTION\n",
    "name: q2c\n",
    "-->"
   ]
  },
  {
   "cell_type": "code",
   "execution_count": 22,
   "metadata": {
    "ExecuteTime": {
     "end_time": "2019-01-18T23:27:54.462427Z",
     "start_time": "2019-01-18T23:27:54.420148Z"
    }
   },
   "outputs": [
    {
     "name": "stdout",
     "output_type": "stream",
     "text": [
      "[12]\n",
      "[28 12 10]\n"
     ]
    }
   ],
   "source": [
    "def array_sum(list_1, list_2):\n",
    "    \"\"\"Compute x^2 + y^3 for each x, y in list_1, list_2. \n",
    "    \n",
    "    Assume list_1 and list_2 have the same length.\n",
    "    \n",
    "    Return a NumPy array.\n",
    "    \"\"\"\n",
    "    assert len(list_1) == len(list_2), \"both args must have the same number of elements\"\n",
    "    array_1 = np.array(list_1)\n",
    "    array_2 = np.array(list_2)\n",
    "    return array_1**2 + array_2**3\n",
    "use_list = array_sum([2],[2])\n",
    "print(use_list) # prints out 2**2 + 2**3 = 4 + 8 = 12\n",
    "type(use_list)\n",
    "print(array_sum([1,2,3], [3,2,1]))"
   ]
  },
  {
   "cell_type": "markdown",
   "metadata": {
    "deletable": false,
    "editable": false,
    "tags": []
   },
   "source": [
    "You might have been told that Python is slow, but array arithmetic is carried out very fast, even for large arrays.\n",
    "\n",
    "For ten numbers, `list_sum` and `array_sum` both take a similar amount of time."
   ]
  },
  {
   "cell_type": "code",
   "execution_count": 63,
   "metadata": {
    "deletable": false,
    "editable": true,
    "tags": []
   },
   "outputs": [],
   "source": [
    "sample_list_1 = list(range(10))\n",
    "sample_array_1 = np.arange(10)"
   ]
  },
  {
   "cell_type": "code",
   "execution_count": 64,
   "metadata": {
    "deletable": false,
    "editable": true,
    "tags": []
   },
   "outputs": [
    {
     "name": "stdout",
     "output_type": "stream",
     "text": [
      "CPU times: user 35 µs, sys: 0 ns, total: 35 µs\n",
      "Wall time: 39.8 µs\n"
     ]
    },
    {
     "data": {
      "text/plain": [
       "[0, 2, 12, 36, 80, 150, 252, 392, 576, 810]"
      ]
     },
     "execution_count": 64,
     "metadata": {},
     "output_type": "execute_result"
    }
   ],
   "source": [
    "%%time\n",
    "list_sum(sample_list_1, sample_list_1)"
   ]
  },
  {
   "cell_type": "code",
   "execution_count": 65,
   "metadata": {
    "deletable": false,
    "editable": true,
    "tags": []
   },
   "outputs": [
    {
     "name": "stdout",
     "output_type": "stream",
     "text": [
      "CPU times: user 120 µs, sys: 28 µs, total: 148 µs\n",
      "Wall time: 122 µs\n"
     ]
    },
    {
     "data": {
      "text/plain": [
       "array([  0,   2,  12,  36,  80, 150, 252, 392, 576, 810])"
      ]
     },
     "execution_count": 65,
     "metadata": {},
     "output_type": "execute_result"
    }
   ],
   "source": [
    "%%time\n",
    "array_sum(sample_array_1, sample_array_1)"
   ]
  },
  {
   "cell_type": "markdown",
   "metadata": {
    "deletable": false,
    "editable": false,
    "tags": []
   },
   "source": [
    "The time difference seems negligible for a list/array of size 10; depending on your setup, you may even observe that `list_sum` executes faster than `array_sum`! However, we will commonly be working with much larger datasets:"
   ]
  },
  {
   "cell_type": "code",
   "execution_count": 66,
   "metadata": {
    "deletable": false,
    "tags": []
   },
   "outputs": [],
   "source": [
    "sample_list_2 = list(range(100000))\n",
    "sample_array_2 = np.arange(100000)"
   ]
  },
  {
   "cell_type": "code",
   "execution_count": 67,
   "metadata": {
    "deletable": false,
    "tags": []
   },
   "outputs": [
    {
     "name": "stdout",
     "output_type": "stream",
     "text": [
      "CPU times: user 66.2 ms, sys: 1.05 ms, total: 67.3 ms\n",
      "Wall time: 126 ms\n"
     ]
    },
    {
     "data": {
      "text/plain": [
       "'# The semicolon hides the output'"
      ]
     },
     "execution_count": 67,
     "metadata": {},
     "output_type": "execute_result"
    }
   ],
   "source": [
    "%%time\n",
    "list_sum(sample_list_2, sample_list_2)\n",
    "; # The semicolon hides the output"
   ]
  },
  {
   "cell_type": "code",
   "execution_count": 68,
   "metadata": {
    "deletable": false,
    "tags": []
   },
   "outputs": [
    {
     "name": "stdout",
     "output_type": "stream",
     "text": [
      "CPU times: user 0 ns, sys: 3.69 ms, total: 3.69 ms\n",
      "Wall time: 2.56 ms\n"
     ]
    },
    {
     "data": {
      "text/plain": [
       "''"
      ]
     },
     "execution_count": 68,
     "metadata": {},
     "output_type": "execute_result"
    }
   ],
   "source": [
    "%%time\n",
    "array_sum(sample_array_2, sample_array_2)\n",
    ";"
   ]
  },
  {
   "cell_type": "markdown",
   "metadata": {
    "deletable": false,
    "editable": false,
    "tags": []
   },
   "source": [
    "With the larger dataset, we see that using NumPy results in code that executes over 50 times faster! Throughout this course (and in the real world), you will find that writing efficient code will be important; arrays and vectorized operations are the most common way of making Python programs run quickly."
   ]
  },
  {
   "cell_type": "markdown",
   "metadata": {
    "deletable": false,
    "editable": false,
    "tags": []
   },
   "source": [
    "#### A note on `np.arange` and `np.linspace`\n",
    "\n",
    "Usually we use `np.arange` to return an array that steps from `a` to `b` with a fixed step size `s`. While this is fine in some cases, we sometimes prefer to use `np.linspace(a, b, N)`, which divides the interval `[a, b]` into N equally spaced points.\n",
    "\n",
    "`np.arange(start, stop, step)` produces an array with all the numbers starting at `start`, incremendted up by `step`, stopping **before** `stop` is reached. For example, the value of `np.arange(1, 6, 2)` is an array with elements 1, 3, and 5 -- it starts at 1 and counts up by 2, then stops before 6. `np.arange(4, 9, 1)` is an array with elements 4, 5, 6, 7, and 8. (It doesn't contain 9 because `np.arange` stops _before_ the stop value is reached.)\n",
    "\n",
    " `np.linspace` always includes **both end points** while `np.arange` will **not** include the second end point `b`. For this reason, especially when we are plotting ranges of values we tend to prefer `np.linspace`.\n",
    "\n",
    "Notice how the following two statements have different parameters but return the same result."
   ]
  },
  {
   "cell_type": "code",
   "execution_count": 69,
   "metadata": {
    "deletable": false,
    "editable": true,
    "tags": []
   },
   "outputs": [
    {
     "data": {
      "text/plain": [
       "array([-5., -4., -3., -2., -1.,  0.,  1.,  2.,  3.,  4.,  5.])"
      ]
     },
     "execution_count": 69,
     "metadata": {},
     "output_type": "execute_result"
    }
   ],
   "source": [
    "np.arange(-5, 6, 1.0)"
   ]
  },
  {
   "cell_type": "code",
   "execution_count": 70,
   "metadata": {
    "deletable": false,
    "editable": true,
    "tags": []
   },
   "outputs": [
    {
     "data": {
      "text/plain": [
       "array([-5., -4., -3., -2., -1.,  0.,  1.,  2.,  3.,  4.,  5.])"
      ]
     },
     "execution_count": 70,
     "metadata": {},
     "output_type": "execute_result"
    }
   ],
   "source": [
    "np.linspace(-5, 5, 11)"
   ]
  },
  {
   "cell_type": "markdown",
   "metadata": {
    "deletable": false,
    "editable": false,
    "tags": []
   },
   "source": [
    "---\n",
    "# Submission\n",
    "\n",
    "\n",
    "1. Make sure you **save the notebook** first, \n",
    "2. Then go up to the `Kernel` menu and select `Restart & Clear Output` (make sure the notebook is saved first, because otherwise, you will lose all your work!). \n",
    "3. Now, go to `Cell -> Run All`. Carefully look through your notebook and verify that all computations execute correctly. You should see **no errors**; if there are any errors, make sure to correct them before you submit the notebook.\n",
    "4. Then, go to `File -> Download as -> Notebook` and download the notebook to your own computer.\n",
    "5. Upload to Gradescope"
   ]
  }
 ],
 "metadata": {
  "kernelspec": {
   "display_name": "Python 3",
   "language": "python",
   "name": "python3"
  },
  "language_info": {
   "codemirror_mode": {
    "name": "ipython",
    "version": 3
   },
   "file_extension": ".py",
   "mimetype": "text/x-python",
   "name": "python",
   "nbconvert_exporter": "python",
   "pygments_lexer": "ipython3",
   "version": "3.7.10"
  },
  "toc-autonumbering": false,
  "toc-showcode": false,
  "toc-showtags": false
 },
 "nbformat": 4,
 "nbformat_minor": 4
}
