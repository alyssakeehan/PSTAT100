{
 "cells": [
  {
   "cell_type": "code",
   "execution_count": 2,
   "metadata": {},
   "outputs": [
    {
     "data": {
      "text/plain": [
       "DataTransformerRegistry.enable('default')"
      ]
     },
     "execution_count": 2,
     "metadata": {},
     "output_type": "execute_result"
    }
   ],
   "source": [
    "# libraries\n",
    "import numpy as np\n",
    "import pandas as pd\n",
    "import altair as alt\n",
    "from sklearn.decomposition import PCA\n",
    "alt.data_transformers.disable_max_rows()"
   ]
  },
  {
   "cell_type": "markdown",
   "metadata": {},
   "source": [
    "# PSTAT 100 Project plan report\n",
    "\n",
    "This is a guide to preparing your project plan. It functions both as a guide to the work you'll need to do and as a guide to preparing the deliverable. You can use it as a template to draft the plan report; if so, please remove the text explanations of each section.\n",
    "\n",
    "While you may find it useful initially to follow the outline given, you do not need to adhere to it exactly -- you're free to organize your submission in the way that seems most natural to you. However, please do keep the high-level sections, so that your report includes the following headers:\n",
    "\n",
    "0. Background\n",
    "1. Data description\n",
    "2. Initial exporations\n",
    "3. Planned work\n",
    "\n",
    "Your report does not need to be long. It should be about 2-4 pages, and may not be much longer than this template once you replace the guiding text with your own work."
   ]
  },
  {
   "cell_type": "markdown",
   "metadata": {},
   "source": [
    "## Group information\n",
    "\n",
    "**Group members**: Alyssa Keeha , Jasmine Kwok, Jordan Tran\n",
    "\n",
    "**Contributions**:\n",
    "1. Alyssa wrote up the background and explored the relationship between State Frequencies and Police Budgets.\n",
    "2. Jasmine wrote up the initial explorations part and provided the variable summaries.\n",
    "3. Jordan wrote up the Data Descriptions and figured out a way to geocode the coordinates in the dataset and output and map of all the locations of Police Killings in the United States."
   ]
  },
  {
   "cell_type": "markdown",
   "metadata": {},
   "source": [
    "---\n",
    "## 0. Background\n",
    "\n",
    "This section should introduce your reader to the general topic you're engaging with in your project and explain any specialized knowledge that they may need to understand your dataset and why it's interesting. It doesn't need to be long, but should touch on the following points:\n",
    "* Introduce the topic of your project.\n",
    "* What area or areas of study are you in dialogue with for your project?\n",
    "* What is your data about, broadly? \n",
    "* What is the motivation for collecting the kind of data you're working with, and what sorts of things could you potentially learn?\n",
    "\n",
    "You can look to the background sections in the homework assignments for examples. (There you can also see how to include images in your notebook.) The background sections of the homeworks are usually short and focused paragraphs intended to orient you to what you'll do in the assignment. They don't go into a lot of detail -- just enough to (hopefully) convince you that the data are interesting and explain any terminology or general information you may not know.\n",
    "\n",
    "You may find it useful to write up the data description first, think about what the reader should know before they peek at your dataset, and then come back to the background section. I often write the background sections of your assignments last, once I have a sense of what kind of information would be most useful going into the assignment."
   ]
  },
  {
   "cell_type": "markdown",
   "metadata": {},
   "source": [
    "*For our topic, we would like to perform an in-depth analysis on the factors involving the thousands of fatal police shootings in recent years. In light of the recent events circling the wrongful police killings in the past year, we wanted to create a meaningful and informative project that is relevant in our society right now.*  \n",
    "\n",
    "*The most obvious area of study we are engaging in with our project are civic and political issues. Civics is the study of people and their rights as citizens and politics is our country’s way of making decisions for the people. The police are essentially supposed to be enforcing rules while protecting the citizens. Our goal is to find systematic similarities between each of these incidents and bring those findings to light. In addition, we are thinking of also working in geography into our analysis by geocoding the coordinates onto a map using Altair's geoshape feature.*\n",
    "\n",
    "*Our data is an up to date log of Police Killings in the United States from the Washington Post for the past five years. It contains general notes about the event and even information about the victim, police and station. The information comes from several different news sources, social media posts and police reports. The data started being logged after the incident in 2014 where Michael Brown, an unarmed black man was killed by the police. A post investigation of this incident showed that the FBI severely undercounted the number of police-caused fatalities and the reason being many departments failed to require reports of this kind.*\n",
    "\n",
    "*We want to look at this data for the same reason we explained before in that it is a relevant and important topic in our society today. The frequent and lawful police killings in just the last year have contributed to some of the hardest months of the pandemic. The connection between police killings and race has become an even bigger issue and has caused mass protesting and looting all over the country in the middle of a global pandemic. Some things we hope to learn with this research is the specific variables that contribute to fatalities and potentially ways to prevent them from happening. We want our project to be an educational and interesting read that may be helpful for further research in updating future police funding and practices.*"
   ]
  },
  {
   "cell_type": "markdown",
   "metadata": {},
   "source": [
    "---\n",
    "## 1. Data description\n",
    "\n",
    "This section should introduce your dataset in detail. It should reflect your having gone through the collect/acquaint/tidy stages of the lifecycle. Below I've provided you with an outline. You do not need to adhere to this strictly -- in fact, it would be more natural to divide the items among a few short paragraphs -- but you should touch on each item in a format that suits your project."
   ]
  },
  {
   "cell_type": "markdown",
   "metadata": {},
   "source": [
    "### Basic information\n",
    "\n",
    "Help your reader understand what your data is, where it came from, and how it can be used. Provide the following.\n",
    "\n",
    "**General description**: provide a one- or two-sentence description of the data right at the beginning. For instance, \"The data are diatom counts sampled from evenly-spaced depths in a sediment core from the gulf of California.\" Nothing too complicated, just something to give your reader a sense of the 'what' right off the bat.\n",
    "\n",
    "**Source**: indicate where your data came from. Provide a verbal description -- who collected it as part of what project and where -- and either a citation or a hyperlink.\n",
    "\n",
    "**Collection methods**: How were the data values obtained? Provide a simple description of how measurements were taken (using scientific equipment? web scraping? surveys?).\n",
    "\n",
    "**Sampling design and scope of inference**: Indicate the relevant population. If identifiable from data documentation, state the sampling frame and sampling mechanism and indicate the scope of inference. If no information is available about the sampling design, indicate this instead, and discuss the extent to which having no scope of inference is a limitation for the particular topic you're investigating."
   ]
  },
  {
   "cell_type": "markdown",
   "metadata": {},
   "source": [
    "*In recent years, negligent fatal shootings by police officers have been shoved to the public spotlight after various notorious incidents. However, officials of the FBI and the Centers for Disease Control and Prevention have confirmed that their data log for fatal shootings by police is incomplete, resulting in inaccurate analysis of our potential policing issue. Therefore, at the start of 2015, The Washington Post started a project to begin recording all future fatal shootings by on-duty police officers in the United States and various descriptors of the incident. Their database is located here: https://github.com/washingtonpost/data-police-shootings.*\n",
    "\n",
    "*The Washington Post accumulates their data by culling local news reports, law enforcement websites, social media, and from our databases such as Killed by Police and Fatal Encounters. The Post filed open-records requests with police departments in order to collect additional information for each fatal shooting and also requests comment per incident. In 2015, the FBI and the Centers for Disease Control and Prevention documented less than half of the amount of fatal shootings by police than the Washington Post. The Washington Post’s database is kept up-to-date as fatal shootings and facts emerge from the Post's collective methods.*\n",
    "\n",
    "*Our first dataset we are working with is Washington Post's data of police fatal shooting incidents from Jan. 1, 2015. The population of our data is all fatal shootings in the United States by a police officer in the line of duty.  The population does not include deaths of people in custody, fatal shootings by off-duty officers, or non-shooting deaths. The sampling frame consists of all entities in the population that were publicly reported in any form of way since Jan. 1, 2015. The sampling mechanism is a census and therefore our sample consists of all entities in our sampling frame. The sample consists of 6280 observations of fatal police shootings from Jan 2, 2015 to May 9, 2021. Our data is administrative and has no scope of inference.*"
   ]
  },
  {
   "cell_type": "markdown",
   "metadata": {},
   "source": [
    "### Data semantics and structure\n",
    "\n",
    "**Units and observations**: State the observational units.\n",
    "\n",
    "**Variable descriptions**: Provide a table of variable descriptions. If your dataset is large and you'll only work with a subset of the total available variables, limit your attention to the variables that you'll work with. Here's a template you can work with:\n",
    "\n",
    "Name | Variable description | Type | Units of measurement\n",
    "---|---|---|---\n",
    "id | a unique identifier for each victim | Numeric | Calendar year \n",
    "\n",
    "\n",
    "**Example rows**: Print a few example rows of your dataset in tidy format. Please don't include the codes you used to manipulate the raw data. Do that in a separate notebook and export the result to a .csv file -- `data.to_csv('tidy-data.csv')` -- to load directly into the cell below."
   ]
  },
  {
   "cell_type": "markdown",
   "metadata": {},
   "source": [
    "*The observational units are incidents of a fatal shooting in the United States by a police officer in the line of duty.*\n",
    "\n",
    "Name | Variable description | Type | Units of measurement\n",
    "---|---|---|---\n",
    "id | unique identifier for each victim | Nominal| None\n",
    "name | name of the victim | Nominal | None\n",
    "date | date of the fatal shooting  | Nominal | YYYY-MM-DD\n",
    "manner_of_death | manner of victim's death | Nominal | None\n",
    "armed | what the victim was armed with | Nominal | None\n",
    "age | age of the victim | Numeric | Years\n",
    "gender |  gender of the victim | Nominal | None\n",
    "race | race of the victim | Nominal | None\n",
    "city | city where the fatal shooting took place | Nominal | None\n",
    "state | state where the fatal shooting took place | Nominal | None\n",
    "signs_of_mental_illness | indicator if the victim had a history of mental health issues, <br />expressed suicidal intentions or was experiencingmental <br />distress at the time of the shooting | Nominal | None\n",
    "threat_level | threat level of victim to the police | Nominal | None\n",
    "flee | indicator if the victim was moving away from officers | Nominal | None\n",
    "body_camera | indicator if an officer had a body camera on at the incident | Nominal | None\n",
    "longitude | longitude location of the shooting expressed as WGS84<br /> coordinates, geocoded from addresses | Numeric | Degrees\n",
    "latitude | latitude location of the shooting expressed as WGS84<br /> coordinates, geocoded from addresses | Numeric | Degrees\n",
    "is_geocoding_exact | indicator of the accuracy of the coordinates | Nominal | None\n",
    "Budget_Per_Capita | police budget per capita of the state where incident occured | Numeric | Dollars"
   ]
  },
  {
   "cell_type": "code",
   "execution_count": 34,
   "metadata": {},
   "outputs": [
    {
     "data": {
      "text/html": [
       "<div>\n",
       "<style scoped>\n",
       "    .dataframe tbody tr th:only-of-type {\n",
       "        vertical-align: middle;\n",
       "    }\n",
       "\n",
       "    .dataframe tbody tr th {\n",
       "        vertical-align: top;\n",
       "    }\n",
       "\n",
       "    .dataframe thead th {\n",
       "        text-align: right;\n",
       "    }\n",
       "</style>\n",
       "<table border=\"1\" class=\"dataframe\">\n",
       "  <thead>\n",
       "    <tr style=\"text-align: right;\">\n",
       "      <th></th>\n",
       "      <th>id</th>\n",
       "      <th>name</th>\n",
       "      <th>date</th>\n",
       "      <th>manner_of_death</th>\n",
       "      <th>armed</th>\n",
       "      <th>age</th>\n",
       "      <th>gender</th>\n",
       "      <th>race</th>\n",
       "      <th>city</th>\n",
       "      <th>state</th>\n",
       "      <th>signs_of_mental_illness</th>\n",
       "      <th>threat_level</th>\n",
       "      <th>flee</th>\n",
       "      <th>body_camera</th>\n",
       "      <th>longitude</th>\n",
       "      <th>latitude</th>\n",
       "      <th>is_geocoding_exact</th>\n",
       "      <th>Budget_Per_Capita</th>\n",
       "    </tr>\n",
       "  </thead>\n",
       "  <tbody>\n",
       "    <tr>\n",
       "      <th>0</th>\n",
       "      <td>3</td>\n",
       "      <td>Tim Elliot</td>\n",
       "      <td>2015-01-02</td>\n",
       "      <td>shot</td>\n",
       "      <td>gun</td>\n",
       "      <td>53.0</td>\n",
       "      <td>M</td>\n",
       "      <td>A</td>\n",
       "      <td>Shelton</td>\n",
       "      <td>WA</td>\n",
       "      <td>True</td>\n",
       "      <td>attack</td>\n",
       "      <td>Not fleeing</td>\n",
       "      <td>False</td>\n",
       "      <td>-123.122</td>\n",
       "      <td>47.247</td>\n",
       "      <td>True</td>\n",
       "      <td>277.0</td>\n",
       "    </tr>\n",
       "    <tr>\n",
       "      <th>1</th>\n",
       "      <td>4</td>\n",
       "      <td>Lewis Lee Lembke</td>\n",
       "      <td>2015-01-02</td>\n",
       "      <td>shot</td>\n",
       "      <td>gun</td>\n",
       "      <td>47.0</td>\n",
       "      <td>M</td>\n",
       "      <td>W</td>\n",
       "      <td>Aloha</td>\n",
       "      <td>OR</td>\n",
       "      <td>False</td>\n",
       "      <td>attack</td>\n",
       "      <td>Not fleeing</td>\n",
       "      <td>False</td>\n",
       "      <td>-122.892</td>\n",
       "      <td>45.487</td>\n",
       "      <td>True</td>\n",
       "      <td>331.0</td>\n",
       "    </tr>\n",
       "    <tr>\n",
       "      <th>2</th>\n",
       "      <td>5</td>\n",
       "      <td>John Paul Quintero</td>\n",
       "      <td>2015-01-03</td>\n",
       "      <td>shot and Tasered</td>\n",
       "      <td>unarmed</td>\n",
       "      <td>23.0</td>\n",
       "      <td>M</td>\n",
       "      <td>H</td>\n",
       "      <td>Wichita</td>\n",
       "      <td>KS</td>\n",
       "      <td>False</td>\n",
       "      <td>other</td>\n",
       "      <td>Not fleeing</td>\n",
       "      <td>False</td>\n",
       "      <td>-97.281</td>\n",
       "      <td>37.695</td>\n",
       "      <td>True</td>\n",
       "      <td>296.0</td>\n",
       "    </tr>\n",
       "    <tr>\n",
       "      <th>3</th>\n",
       "      <td>8</td>\n",
       "      <td>Matthew Hoffman</td>\n",
       "      <td>2015-01-04</td>\n",
       "      <td>shot</td>\n",
       "      <td>toy weapon</td>\n",
       "      <td>32.0</td>\n",
       "      <td>M</td>\n",
       "      <td>W</td>\n",
       "      <td>San Francisco</td>\n",
       "      <td>CA</td>\n",
       "      <td>True</td>\n",
       "      <td>attack</td>\n",
       "      <td>Not fleeing</td>\n",
       "      <td>False</td>\n",
       "      <td>-122.422</td>\n",
       "      <td>37.763</td>\n",
       "      <td>True</td>\n",
       "      <td>487.0</td>\n",
       "    </tr>\n",
       "    <tr>\n",
       "      <th>4</th>\n",
       "      <td>9</td>\n",
       "      <td>Michael Rodriguez</td>\n",
       "      <td>2015-01-04</td>\n",
       "      <td>shot</td>\n",
       "      <td>nail gun</td>\n",
       "      <td>39.0</td>\n",
       "      <td>M</td>\n",
       "      <td>H</td>\n",
       "      <td>Evans</td>\n",
       "      <td>CO</td>\n",
       "      <td>False</td>\n",
       "      <td>attack</td>\n",
       "      <td>Not fleeing</td>\n",
       "      <td>False</td>\n",
       "      <td>-104.692</td>\n",
       "      <td>40.384</td>\n",
       "      <td>True</td>\n",
       "      <td>330.0</td>\n",
       "    </tr>\n",
       "  </tbody>\n",
       "</table>\n",
       "</div>"
      ],
      "text/plain": [
       "   id                name        date   manner_of_death       armed   age  \\\n",
       "0   3          Tim Elliot  2015-01-02              shot         gun  53.0   \n",
       "1   4    Lewis Lee Lembke  2015-01-02              shot         gun  47.0   \n",
       "2   5  John Paul Quintero  2015-01-03  shot and Tasered     unarmed  23.0   \n",
       "3   8     Matthew Hoffman  2015-01-04              shot  toy weapon  32.0   \n",
       "4   9   Michael Rodriguez  2015-01-04              shot    nail gun  39.0   \n",
       "\n",
       "  gender race           city state  signs_of_mental_illness threat_level  \\\n",
       "0      M    A        Shelton    WA                     True       attack   \n",
       "1      M    W          Aloha    OR                    False       attack   \n",
       "2      M    H        Wichita    KS                    False        other   \n",
       "3      M    W  San Francisco    CA                     True       attack   \n",
       "4      M    H          Evans    CO                    False       attack   \n",
       "\n",
       "          flee  body_camera  longitude  latitude  is_geocoding_exact  \\\n",
       "0  Not fleeing        False   -123.122    47.247                True   \n",
       "1  Not fleeing        False   -122.892    45.487                True   \n",
       "2  Not fleeing        False    -97.281    37.695                True   \n",
       "3  Not fleeing        False   -122.422    37.763                True   \n",
       "4  Not fleeing        False   -104.692    40.384                True   \n",
       "\n",
       "   Budget_Per_Capita  \n",
       "0              277.0  \n",
       "1              331.0  \n",
       "2              296.0  \n",
       "3              487.0  \n",
       "4              330.0  "
      ]
     },
     "execution_count": 34,
     "metadata": {},
     "output_type": "execute_result"
    }
   ],
   "source": [
    "# load tidied data and print rows\n",
    "police_killings = pd.read_csv('complete_police.csv')\n",
    "police_killings.head(5)"
   ]
  },
  {
   "cell_type": "markdown",
   "metadata": {},
   "source": [
    "---\n",
    "## 2. Initial explorations\n",
    "\n",
    "At this stage, you may spend most of your effort on the computing side tidying up the data. You're not expected to complete a thorough exploratory analysis, and if your dataset was especially messy to start with, you may not even begin your exploratory analysis by the time you prepare this report. You have the option to leave exploration for the next stage of work and simply report basic properties of the dataset, but you should at minimum address the items in the 'basic properties' section below."
   ]
  },
  {
   "cell_type": "markdown",
   "metadata": {},
   "source": [
    "### Basic properties of the dataset\n",
    "\n",
    "Help the reader get acquainted with your dataset on a simple level by identifying characteristics of the dataset and variable summaries. Some amount of code is fine here, but try to use code cells sparingly.\n",
    "\n",
    "**Dimensions**: state the dimensions of the data (in tidy format, of course).\n",
    "\n",
    "**Missing values**: Are there missing values? If so, why are they missing?\n",
    "\n",
    "**Variable summaries**: Provide simple variable summaries for the most important variables in your dataset. Preferably, you'll do this for all variables, but if you have a large number, you might need to prioritize and focus on the ones most of interest. What exactly you do is a little case-specific, but think of things like means and variances, min/max, number of levels and observation counts for categorical variables, etc."
   ]
  },
  {
   "cell_type": "markdown",
   "metadata": {},
   "source": [
    "*There are 6280 observations and 18 columns. This dataset consists of one integer variable (id), four float variables (age, longitude, latitude, budget_per_capita), three boolean variables (signs_of_mental_illness,body_camera,is_geocoding_exact) and the rest of the variables have an object data type which indicates that it is a string.*\n",
    "\n",
    "*There are a total of 2325 missing values in the dataset. There are 233 missing names, 208 missing armed indications, 281 missing age, 1 missing gender, 583 missing race, 388 missing indications on how the victims were moving away from officers, 307 missing longitude,307 missing latitude and 17 missing budget_per_capita.* \n",
    "\n",
    "*The details of each police killing tracked by the Washington Post were gathered from law enforcement websites, local news reports, social media, and through monitoring independent databases. It is possible that the missing values on name, age, and race were due to unreported deceased details we missing by chance on external websites or intentionally excluded to protect the confidentiality of the victims and their families. The missing values for Budget_Per_Capita were all for Washington, DC. The Budget_Per_Capita variable was merged from another dataset and the  information on Budget_Per_Capita DC was already missing in the other dataset. There was 1 missing gender for this dataset which was the row with id 2956. Gender is classified in a binary form of male and female for this dataset, however, in reality gender is not limited to these two categories and can be more fluid. Searching on the internet, the gender of the deceased with id 2956 does not fit into the binary category which might be a reason for it to be missing.*"
   ]
  },
  {
   "cell_type": "code",
   "execution_count": 40,
   "metadata": {},
   "outputs": [
    {
     "data": {
      "text/plain": [
       "id                           0\n",
       "name                       233\n",
       "date                         0\n",
       "manner_of_death              0\n",
       "armed                      208\n",
       "age                        281\n",
       "gender                       1\n",
       "race                       583\n",
       "city                         0\n",
       "state                        0\n",
       "signs_of_mental_illness      0\n",
       "threat_level                 0\n",
       "flee                       388\n",
       "body_camera                  0\n",
       "longitude                  307\n",
       "latitude                   307\n",
       "is_geocoding_exact           0\n",
       "Budget_Per_Capita           17\n",
       "dtype: int64"
      ]
     },
     "execution_count": 40,
     "metadata": {},
     "output_type": "execute_result"
    }
   ],
   "source": [
    "# dimension of the data set \n",
    "police_killings.shape #(6280, 18)\n",
    "# variable data types \n",
    "police_killings.dtypes\n",
    "# total number of missing values in the dataset\n",
    "police_killings.isna().sum().sum()\n",
    "# missing values in each variable\n",
    "police_killings.isna().sum()"
   ]
  },
  {
   "cell_type": "markdown",
   "metadata": {},
   "source": [
    "#### basic statistical details of the data set\n",
    "<img src=\"describe.png\" style=\"width:500px\">"
   ]
  },
  {
   "cell_type": "markdown",
   "metadata": {},
   "source": [
    "### Exploratory analysis\n",
    "\n",
    "If you were lucky and your dataset was neat, you should aim to include a few exploratory plots or tables here -- they don't need to be polished at this stage, but you should select plots that are informative (rather than including all plots you may have looked at). \n",
    "\n",
    "If you do include exploratory graphics or tables, please explain in a sentence or two what each one shows. Try to include a minimum of code. Consider [saving your plots as images](https://altair-viz.github.io/user_guide/saving_charts.html#png-svg-and-pdf-format) and inputting images into markdown cells instead of generating them anew via code cells."
   ]
  },
  {
   "cell_type": "markdown",
   "metadata": {},
   "source": [
    "## Map\n",
    "*The following map was generated by importing the vega dataset and mark_geoshape() to make the map and mark_circle() to plot the corrdinates.* \n",
    "<img src=\"racemap.png\" style=\"width:700px\">\n",
    "*It displays the locations of every single reported fatal Police Shooting from 2015 and depicts the race of the victim by color.*"
   ]
  },
  {
   "cell_type": "markdown",
   "metadata": {},
   "source": [
    "*Below is a histogram of the Ages of Fatal Police Killings separated by gender with color.*\n",
    "<img src=\"gender_age.png\" style=\"width:700px\">\n",
    "*We see a large range for women, but less frequencies, while for men a strong mean around an age between 25-35 with high frequencies.*"
   ]
  },
  {
   "cell_type": "markdown",
   "metadata": {},
   "source": [
    "*Below is another histogram plotting the density of the ages of each police fatal shooting.*\n",
    "<img src=\"age_density.png\" style=\"width:700px\">"
   ]
  },
  {
   "cell_type": "markdown",
   "metadata": {},
   "source": [
    "---\n",
    "## 3. Planned work\n",
    "\n",
    "Here you should indicate your tentative ideas for your analysis. Don't worry, these aren't final -- you can always change your mind later or shift gears if they don't pan out. The objective is to have you start thinking ahead about what you'll do."
   ]
  },
  {
   "cell_type": "markdown",
   "metadata": {},
   "source": [
    "### Questions\n",
    "\n",
    "Please propose three focused questions that you plan to explore.\n",
    "\n",
    "1. *Is there any indication of Mental health issues of victims having a relationship with the  threat level felt by the police officer?*\n",
    "2. *Do economic factors, such as a city's poverty rate,  have an association with the number of fatal shootings?*\n",
    "3. *How does the racial distribution of a particular area relate to the possibility of a fatal shooting occur?*"
   ]
  },
  {
   "cell_type": "markdown",
   "metadata": {},
   "source": [
    "### Proposed approaches\n",
    "\n",
    "For each question, please describe an idea or two about how you might approach the question.\n",
    "\n",
    "1. *Create a bar chart and facet by the factors for the mental_health_issues variable to depict the counts for each threat level.* \n",
    "2. *Finding economic data on cities and merging with our data. We can then create histograms to show the distribution of various economic factors across the cities where a fatal shootings occured.*\n",
    "3. *Identify areas with exceptionally high or low number of police shootings through the heat map and select several cities or state to look into more depth. Then using this information, subset the selected cities or state and plot individual scatterplots by race.*"
   ]
  },
  {
   "cell_type": "markdown",
   "metadata": {
    "tags": []
   },
   "source": [
    "---\n",
    "## Submission Checklist\n",
    "1. Save file to confirm all changes are on disk\n",
    "2. Run *Kernel > Restart & Run All* to execute all code from top to bottom\n",
    "3. Save file again to write any new output to disk\n",
    "4. Select *File > Download as > HTML*.\n",
    "5. Open in Google Chrome and print to PDF on A3 paper in portrait orientation.\n",
    "6. Submit to Gradescope"
   ]
  }
 ],
 "metadata": {
  "kernelspec": {
   "display_name": "Python 3",
   "language": "python",
   "name": "python3"
  },
  "language_info": {
   "codemirror_mode": {
    "name": "ipython",
    "version": 3
   },
   "file_extension": ".py",
   "mimetype": "text/x-python",
   "name": "python",
   "nbconvert_exporter": "python",
   "pygments_lexer": "ipython3",
   "version": "3.7.10"
  },
  "toc": {
   "base_numbering": 1,
   "nav_menu": {},
   "number_sections": true,
   "sideBar": true,
   "skip_h1_title": false,
   "title_cell": "Table of Contents",
   "title_sidebar": "Contents",
   "toc_cell": false,
   "toc_position": {},
   "toc_section_display": true,
   "toc_window_display": false
  }
 },
 "nbformat": 4,
 "nbformat_minor": 4
}
